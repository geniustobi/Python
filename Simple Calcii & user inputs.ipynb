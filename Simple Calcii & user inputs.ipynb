{
 "cells": [
  {
   "cell_type": "code",
   "execution_count": 1,
   "id": "f9c7f279",
   "metadata": {},
   "outputs": [
    {
     "name": "stdout",
     "output_type": "stream",
     "text": [
      "Opening Calculator. Please Wait .....\n",
      "Calculator OPENED\n",
      "Enter First Number : 50\n",
      "Enter second Number : 25\n",
      "Addition is : 75.0\n",
      "Subtraction is : 25.0\n"
     ]
    }
   ],
   "source": [
    "# creating a simple calculator to under input()\n",
    "\n",
    "print(\"Opening Calculator. Please Wait .....\")\n",
    "print(\"Calculator OPENED\")\n",
    "\n",
    "#getting input from users, python by default save them as string.\n",
    "#so numbers entered below will be string\n",
    "num_1 = input(\"Enter First Number : \")\n",
    "num_2 = input(\"Enter second Number : \")\n",
    "\n",
    "#performing calculation will need convert into numbers so typecast them.\n",
    "#Typecast ::: converting into num using int() or float() \n",
    "Addition = float(num_1) + float(num_2)\n",
    "Subtraction = float(num_1) - float(num_2)\n",
    "\n",
    "#printing result\n",
    "print('Addition is : '+str(Addition)+'\\nSubtraction is : '+str(Subtraction))\n"
   ]
  },
  {
   "cell_type": "code",
   "execution_count": 2,
   "id": "69fc48ed",
   "metadata": {},
   "outputs": [
    {
     "name": "stdout",
     "output_type": "stream",
     "text": [
      "Enter a color : Red\n",
      "Enter a plural_noun : Sky\n",
      "Enter a celebrity : Srk\n",
      "Roses are Red\n",
      "Sky are blue\n",
      "I love Srk\n"
     ]
    }
   ],
   "source": [
    "#getting inputs from user\n",
    "\n",
    "color = input(\"Enter a color : \")\n",
    "plural_noun = input(\"Enter a plural_noun : \")\n",
    "celebrity = input(\"Enter a celebrity : \")\n",
    "\n",
    "print(\"Roses are \" + color)\n",
    "print(plural_noun + \" are blue\")\n",
    "print(\"I love \" + celebrity)"
   ]
  },
  {
   "cell_type": "code",
   "execution_count": null,
   "id": "0d13e21f",
   "metadata": {},
   "outputs": [],
   "source": []
  }
 ],
 "metadata": {
  "kernelspec": {
   "display_name": "Python 3 (ipykernel)",
   "language": "python",
   "name": "python3"
  },
  "language_info": {
   "codemirror_mode": {
    "name": "ipython",
    "version": 3
   },
   "file_extension": ".py",
   "mimetype": "text/x-python",
   "name": "python",
   "nbconvert_exporter": "python",
   "pygments_lexer": "ipython3",
   "version": "3.11.5"
  }
 },
 "nbformat": 4,
 "nbformat_minor": 5
}
