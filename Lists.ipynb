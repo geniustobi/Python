{
 "cells": [
  {
   "cell_type": "code",
   "execution_count": 1,
   "id": "fc3ef68c",
   "metadata": {},
   "outputs": [
    {
     "name": "stdout",
     "output_type": "stream",
     "text": [
      "['Grand Theft', 'Valorant', 'Counter Strike', 'Fortnite', 'These are my games', 1, 2, 3, 6, 4, 5, 7, 8, 'Fanny magnet']\n"
     ]
    }
   ],
   "source": [
    "games=['Grand Theft','Valorant','Counter Strike','Fortnite','These are my games',1,2,3,6,4,5,7,8,'Fanny magnet']\n",
    "print(games)"
   ]
  },
  {
   "cell_type": "code",
   "execution_count": 17,
   "id": "d991cf77",
   "metadata": {},
   "outputs": [
    {
     "name": "stdout",
     "output_type": "stream",
     "text": [
      "Grand Theft, Valorant, Counter Strike, Fortnite, These are my games, 1, 2, 3, 6, 4, 5, 7, 8, Fanny magnet\n",
      "Grand Theft Valorant Counter Strike Fortnite These are my games 1 2 3 6 4 5 7 8 Fanny magnet "
     ]
    }
   ],
   "source": [
    "#Printing list in different Formats\n",
    "print(*games,sep=\", \")  # sep ::: separator(try using differnet symbols like #, $, %, -)\n",
    "\n",
    "\n",
    "#using for loop\n",
    "for items in games:\n",
    "    print(items,end=' ')#end :::By default, the print function ends with a newline. Passing the whitespace to the end parameter (end=' ') indicates that the end character has to be identified by whitespace and not a newline.\n",
    "\n",
    "    \n",
    "    \n"
   ]
  },
  {
   "cell_type": "code",
   "execution_count": 20,
   "id": "97157cc3",
   "metadata": {},
   "outputs": [
    {
     "name": "stdout",
     "output_type": "stream",
     "text": [
      "Grand Theft, Valorant, Counter Strike, Fortnite, These are my games\n"
     ]
    }
   ],
   "source": [
    "#join() ::: works only for string \n",
    "games_2 = games[:5]\n",
    "print(', '.join(games_2))"
   ]
  },
  {
   "cell_type": "code",
   "execution_count": 35,
   "id": "97139ab0",
   "metadata": {},
   "outputs": [
    {
     "name": "stdout",
     "output_type": "stream",
     "text": [
      "Grand Theft\n",
      "Fanny magnet\n",
      "3\n"
     ]
    }
   ],
   "source": [
    "#Accessing list\n",
    "\n",
    "print(games[0])  #first element\n",
    "print(games[-1]) #last element\n",
    "\n",
    "x=int(len(games)/2)#for mid element of any list\n",
    "print(games[x])\n",
    "    "
   ]
  },
  {
   "cell_type": "code",
   "execution_count": 34,
   "id": "253e5602",
   "metadata": {},
   "outputs": [
    {
     "name": "stdout",
     "output_type": "stream",
     "text": [
      "['Grand Theft', 'Valorant', 'Counter Strike', 'Fortnite', 'These are my games', 1, 2, 3, 6, 4, 5, 7, 8, 'Fanny magnet']\n",
      "['Counter Strike', 'Fortnite', 'These are my games', 1, 2, 3, 6, 4, 5, 7, 8, 'Fanny magnet']\n",
      "['Grand Theft', 'Valorant']\n",
      "['Fortnite', 'These are my games', 1, 2, 3, 6, 4, 5, 7]\n"
     ]
    }
   ],
   "source": [
    "#Slicing the list\n",
    "\n",
    "print(games[:])     #full list\n",
    "print(games[2:])    #list from somewhere to end\n",
    "print(games[:2])    #list from start to somewhere\n",
    "print(games[3:12])  #list from somehwhee to somewhere"
   ]
  },
  {
   "cell_type": "code",
   "execution_count": 54,
   "id": "47a280c0",
   "metadata": {},
   "outputs": [
    {
     "name": "stdout",
     "output_type": "stream",
     "text": [
      "['Grand Theft', 'Valorant', 'Counter Strike', 'Fortnite', 'Only up', 'These are my games', 1, 2, 3, 6, 4, 5, 7, 8, 'Fanny magnet', 'Human Fall flat', 'GTA 6']\n",
      "['Grand Theft', 'Valorant', 'Counter Strike', 'Fortnite', 'Only up', 'These are my games', 1, 2, 3, 6, 4, 5, 7, 8, 'Fanny magnet', 'Human Fall flat', 'GTA 6', 'BGMI', 'Mario', 'subway surfers']\n"
     ]
    }
   ],
   "source": [
    "#List methods \n",
    "\n",
    "# .append() ::: adds element to the end\n",
    "# .insert() ::: adds element to a particular index of a existing list\n",
    "# .extend() ::: adding another list to an existing list\n",
    "\n",
    "games.append('GTA 6')\n",
    "print(games)\n",
    "\n",
    "games.insert(4,'Only up')\n",
    "print(games)\n",
    "\n",
    "mobile_games=['BGMI','Mario','subway surfers']\n",
    "games.extend(mobile_games)\n",
    "print(games)"
   ]
  },
  {
   "cell_type": "code",
   "execution_count": 11,
   "id": "2139661a",
   "metadata": {},
   "outputs": [
    {
     "name": "stdout",
     "output_type": "stream",
     "text": [
      "\n"
     ]
    }
   ],
   "source": [
    "\n",
    "#Deleting from list\n",
    "\n",
    "# .remove() ::: removes a single element from list\n",
    "games.remove(\"BGMI\")\n",
    "print(games)\n",
    "\n",
    "\n",
    "#Using indexing to remove or delete elements\n",
    "\n",
    "#del ::: removes a range of elements or single element\n",
    "\n",
    "del games[3]\n",
    "print (games)\n",
    "\n",
    "\n",
    "del games[3:13]\n",
    "print(games)\n",
    "\n",
    "\n",
    "\n",
    "#.pop() ::: only takes index integer\n",
    "games.pop(0)\n",
    "\n"
   ]
  },
  {
   "cell_type": "code",
   "execution_count": 26,
   "id": "e9e8fb28",
   "metadata": {},
   "outputs": [
    {
     "name": "stdout",
     "output_type": "stream",
     "text": [
      "['Koenigsegg', 'Volkwagen', 'Porsche', 'Mercedes', 'Audi']\n",
      "['Audi', 'Koenigsegg', 'Mercedes', 'Porsche', 'Volkwagen']\n",
      "2\n",
      "['Audi', 'Koenigsegg', 'Mercedes', 'Porsche', 'Volkwagen']\n",
      "[]\n"
     ]
    }
   ],
   "source": [
    "# other methods of lists\n",
    "\n",
    "new_list = ['Audi','Mercedes','Porsche','Volkwagen','Koenigsegg',]\n",
    "\n",
    "#reversing the list using  .reverse()\n",
    "new_list.reverse()\n",
    "print(new_list)\n",
    "\n",
    "#alphabetical sort\n",
    "new_list.sort()\n",
    "print(new_list)\n",
    "\n",
    "#to get the index by  .index()\n",
    "index=new_list.index(\"Mercedes\")\n",
    "print(index)\n",
    "\n",
    "#copying one list into another by .copy()\n",
    "new_cars = new_list.copy()\n",
    "print(new_cars)\n",
    "\n",
    "\n",
    "# clearing the list using  .clear()\n",
    "new_list.clear()\n",
    "print(new_list)\n"
   ]
  },
  {
   "cell_type": "code",
   "execution_count": 33,
   "id": "6918a75c",
   "metadata": {},
   "outputs": [
    {
     "name": "stdout",
     "output_type": "stream",
     "text": [
      "Audi\n",
      "Koenigsegg\n",
      "Mercedes\n",
      "Porsche\n",
      "Volkwagen\n",
      "False\n",
      "True\n"
     ]
    }
   ],
   "source": [
    "#Iteration of list\n",
    "\n",
    "for items in new_cars:\n",
    "    print(items)\n",
    "\n",
    "    \n",
    "#to check if element is presint or not ::: returns Boolean\n",
    "print ('a' in new_cars)\n",
    "print(\"Audi\" in new_cars)\n"
   ]
  },
  {
   "cell_type": "code",
   "execution_count": 34,
   "id": "85d0d852",
   "metadata": {
    "scrolled": true
   },
   "outputs": [
    {
     "name": "stdout",
     "output_type": "stream",
     "text": [
      "[1, 4, 9, 16, 25, 36, 49, 64, 81, 100]\n"
     ]
    }
   ],
   "source": [
    "#Creating List (Comprehensions)\n",
    "\n",
    "squares = [number*number for number in range(1,11)]\n",
    "print(squares)"
   ]
  },
  {
   "cell_type": "code",
   "execution_count": 35,
   "id": "e1ef4ba3",
   "metadata": {},
   "outputs": [
    {
     "name": "stdout",
     "output_type": "stream",
     "text": [
      "[1, 4, 9, 16, 25, 36, 49, 64, 81, 100]\n"
     ]
    }
   ],
   "source": [
    "#in simple terms the above code means\n",
    "\n",
    "#initializing\n",
    "numbers = []\n",
    "\n",
    "#adding to the lists\n",
    "for x in range(1,11):\n",
    "    numbers.append(x * x)\n",
    "    \n",
    "    \n",
    "print(numbers)"
   ]
  }
 ],
 "metadata": {
  "kernelspec": {
   "display_name": "Python 3 (ipykernel)",
   "language": "python",
   "name": "python3"
  },
  "language_info": {
   "codemirror_mode": {
    "name": "ipython",
    "version": 3
   },
   "file_extension": ".py",
   "mimetype": "text/x-python",
   "name": "python",
   "nbconvert_exporter": "python",
   "pygments_lexer": "ipython3",
   "version": "3.11.5"
  }
 },
 "nbformat": 4,
 "nbformat_minor": 5
}
