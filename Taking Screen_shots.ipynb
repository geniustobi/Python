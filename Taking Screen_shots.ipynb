{
 "cells": [
  {
   "cell_type": "code",
   "execution_count": null,
   "id": "d5eaa862",
   "metadata": {},
   "outputs": [],
   "source": [
    "# Try it on idle\n",
    "\n",
    "# Try it on idle\n",
    "\n",
    "import pyscreenshot\n",
    "\n",
    "chirag = pyscreenshot.grab()\n",
    "chirag.show()\n",
    "\n",
    "#you can save it \n",
    "chirag.save(\"Img.png\")"
   ]
  },
  {
   "cell_type": "code",
   "execution_count": null,
   "id": "5d58933c",
   "metadata": {},
   "outputs": [],
   "source": [
    "# If you want to select a particular area , give the pixel for it by using bb=() in grab() as parameter \n",
    "\n",
    "# Try it on idle\n",
    "\n",
    "import pyscreenshot\n",
    "\n",
    "chirag1 = pyscreenshot.grab(bbox=(10,10,500,500))\n",
    "chirag1.show()\n",
    "\n",
    "#you can save it \n",
    "chirag1.save(\"Image.png\")"
   ]
  }
 ],
 "metadata": {
  "kernelspec": {
   "display_name": "Python 3 (ipykernel)",
   "language": "python",
   "name": "python3"
  },
  "language_info": {
   "codemirror_mode": {
    "name": "ipython",
    "version": 3
   },
   "file_extension": ".py",
   "mimetype": "text/x-python",
   "name": "python",
   "nbconvert_exporter": "python",
   "pygments_lexer": "ipython3",
   "version": "3.11.5"
  }
 },
 "nbformat": 4,
 "nbformat_minor": 5
}
