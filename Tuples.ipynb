{
 "cells": [
  {
   "cell_type": "code",
   "execution_count": 14,
   "id": "af5fbf2d",
   "metadata": {},
   "outputs": [
    {
     "name": "stdout",
     "output_type": "stream",
     "text": [
      "empty tuple is :  ()\n",
      "Mixed datatypes in tuple :  (1, 2, 3, 'string', True)\n",
      "Nested tuple is :  (1, 2, 'string1', [1, 2, 3, 'string2'], 'good_game', (1, 2, 3))\n",
      "Tuple without parenthesis is :  (56, 36, 55)\n",
      "<class 'tuple'>\n"
     ]
    }
   ],
   "source": [
    "#They are similar to the list except they are immutable.\n",
    "\n",
    "\n",
    "#empty tuple\n",
    "\n",
    "mine = ()\n",
    "print('empty tuple is : ',mine)\n",
    "\n",
    "#mixed datatypes\n",
    "mine = (1,2,3,'string',True)\n",
    "print('Mixed datatypes in tuple : ',mine)\n",
    "\n",
    "#nested tuples\n",
    "mine = (1,2,'string1',[1,2,3,'string2'],'good_game',(1,2,3))\n",
    "print('Nested tuple is : ',mine)\n",
    "\n",
    "\n",
    "#without using paranthesis\n",
    "mine = 56,36,55\n",
    "print('Tuple without parenthesis is : ',mine)\n",
    "\n",
    "print(type(mine))"
   ]
  },
  {
   "cell_type": "code",
   "execution_count": 23,
   "id": "d84822ca",
   "metadata": {},
   "outputs": [
    {
     "name": "stdout",
     "output_type": "stream",
     "text": [
      "s  a  c  h  i  n  n  "
     ]
    }
   ],
   "source": [
    "#Iterations on tuples\n",
    "\n",
    "Player = ('s','a','c','h','i','n','n')\n",
    "for letter in Player:\n",
    "    print(letter,end = '  ')"
   ]
  },
  {
   "cell_type": "code",
   "execution_count": 26,
   "id": "d2d96f03",
   "metadata": {},
   "outputs": [
    {
     "name": "stdout",
     "output_type": "stream",
     "text": [
      "4\n",
      "2\n",
      "True\n",
      "False\n"
     ]
    }
   ],
   "source": [
    "#Methodas on tuples\n",
    "\n",
    "# .index() ::: gives the index\n",
    "print(Player.index('i'))\n",
    "\n",
    "#.count() ::: gives the count - how many times it has been repeated \n",
    "print(Player.count('n'))\n",
    "\n",
    "#checking if eement present in tuples\n",
    "print (\"c\" in Player)\n",
    "print (\"d\" in Player)\n",
    "\n"
   ]
  },
  {
   "cell_type": "code",
   "execution_count": 27,
   "id": "accd3c25",
   "metadata": {},
   "outputs": [
    {
     "name": "stdout",
     "output_type": "stream",
     "text": [
      "('r', 'o', 'g')\n",
      "('p', 'r')\n",
      "('i', 'z')\n",
      "('p', 'r', 'o', 'g', 'r', 'a', 'm', 'i', 'z')\n",
      "z\n",
      "m\n"
     ]
    }
   ],
   "source": [
    "# accessing tuple elements using slicing\n",
    "letters = ('p', 'r', 'o', 'g', 'r', 'a', 'm', 'i', 'z')\n",
    "\n",
    "# elements 2nd to 4th index\n",
    "print(letters[1:4])  #  prints ('r', 'o', 'g')\n",
    "\n",
    "# elements beginning to 2nd\n",
    "print(letters[:-7]) # prints ('p', 'r')\n",
    "\n",
    "# elements 8th to end\n",
    "print(letters[7:]) # prints ('i', 'z')\n",
    "\n",
    "# elements beginning to end\n",
    "print(letters[:]) # Prints ('p', 'r', 'o', 'g', 'r', 'a', 'm', 'i', 'z')\n",
    "\n",
    "print(letters[-1])   # prints 'z' \n",
    "print(letters[-3])   # prints 'm'"
   ]
  },
  {
   "cell_type": "code",
   "execution_count": null,
   "id": "8b62c325",
   "metadata": {},
   "outputs": [],
   "source": []
  }
 ],
 "metadata": {
  "kernelspec": {
   "display_name": "Python 3 (ipykernel)",
   "language": "python",
   "name": "python3"
  },
  "language_info": {
   "codemirror_mode": {
    "name": "ipython",
    "version": 3
   },
   "file_extension": ".py",
   "mimetype": "text/x-python",
   "name": "python",
   "nbconvert_exporter": "python",
   "pygments_lexer": "ipython3",
   "version": "3.11.5"
  }
 },
 "nbformat": 4,
 "nbformat_minor": 5
}
