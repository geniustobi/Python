{
 "cells": [
  {
   "cell_type": "code",
   "execution_count": 4,
   "id": "f68fc65a",
   "metadata": {},
   "outputs": [
    {
     "name": "stdout",
     "output_type": "stream",
     "text": [
      "{45: 'Rohit Sharma', 18: 'Virat Kohli', 7: 'MSD', 10: 'Sachin Tendulkar', 'Coach': 'Rahul Dravid', 'Stadium': 'Wankhede'}\n"
     ]
    }
   ],
   "source": [
    "# Dictionaries\n",
    "\n",
    "'''\n",
    "Dictionaries: key value pairs in python\n",
    "Declared in the {\"key\" : \"value\"}\n",
    "Values are retrived wiht the help of keys\n",
    "Declared in {} brackets.\n",
    "\n",
    "'''\n",
    "\n",
    "#sample entry\n",
    "\n",
    "players = {45:'Rohit Sharma', 18:'Virat Kohli', 7:'MSD', 10:'Sachin Tendulkar', 'Coach':'Rahul Dravid', 'Stadium':'Wankhede'}\n",
    "print(players)"
   ]
  },
  {
   "cell_type": "code",
   "execution_count": 13,
   "id": "3c8a1db8",
   "metadata": {},
   "outputs": [
    {
     "name": "stdout",
     "output_type": "stream",
     "text": [
      "45  :  Rohit Sharma\n",
      "18  :  Virat Kohli\n",
      "7  :  MSD\n",
      "10  :  Sachin Tendulkar\n",
      "Coach  :  Rahul Dravid\n",
      "Stadium  :  Wankhede\n"
     ]
    }
   ],
   "source": [
    "#printing using for loop\n",
    "\n",
    "for key,values in players.items():\n",
    "    print(key,\" : \",values)"
   ]
  },
  {
   "cell_type": "code",
   "execution_count": 17,
   "id": "585ab38b",
   "metadata": {},
   "outputs": [
    {
     "name": "stdout",
     "output_type": "stream",
     "text": [
      "{\n",
      "  \"45\": \"Rohit Sharma\",\n",
      "  \"18\": \"Virat Kohli\",\n",
      "  \"7\": \"MSD\",\n",
      "  \"10\": \"Sachin Tendulkar\",\n",
      "  \"Coach\": \"Rahul Dravid\",\n",
      "  \"Stadium\": \"Wankhede\"\n",
      "}\n"
     ]
    }
   ],
   "source": [
    "#printing using json.dumps()\n",
    "\n",
    "import json\n",
    "new_players=json.dumps(players,indent=2)\n",
    "print(new_players)\n"
   ]
  },
  {
   "cell_type": "code",
   "execution_count": 57,
   "id": "36b50061",
   "metadata": {},
   "outputs": [
    {
     "name": "stdout",
     "output_type": "stream",
     "text": [
      "{\n",
      "  \"emp1\": {\n",
      "    \"Name\": \"chirag\",\n",
      "    \"id\": 101,\n",
      "    \"designation\": \"Data programmer\"\n",
      "  },\n",
      "  \"emp2\": {\n",
      "    \"Name\": \"swapnil\",\n",
      "    \"id\": 102,\n",
      "    \"designation\": \"CA\"\n",
      "  }\n",
      "}\n",
      "<_io.TextIOWrapper name='my_file.json' mode='w' encoding='cp1252'>\n",
      "{'Name': 'chirag', 'id': 101, 'designation': 'Data programmer'}\n"
     ]
    }
   ],
   "source": [
    "#You can create a dictionary inside a dictionary\n",
    "import json\n",
    "employee = {'emp1':{'Name':'chirag','id':101,'designation':'Data programmer'},\n",
    "            'emp2':{'Name':'swapnil','id':102,'designation':'CA'}\n",
    "           }\n",
    "\n",
    "emp_details=json.dumps(employee,indent=2)\n",
    "print(emp_details)\n",
    "\n",
    "\n",
    "#using json.dump() ::: for this you need json formatter pro (freely available on ms store)\n",
    "#it will give the same output as below on the application itself\n",
    "\n",
    "new_file = open(\"my_file.json\",'w')\n",
    "json.dump(employee,new_file,indent=2)\n",
    "new_file.close()\n",
    "print(new_file)\n",
    "\n",
    "\n",
    "# you can also print detail of a specific employee\n",
    "X = employee['emp1']\n",
    "print(X)"
   ]
  },
  {
   "cell_type": "code",
   "execution_count": 26,
   "id": "efd0ad9e",
   "metadata": {},
   "outputs": [
    {
     "name": "stdout",
     "output_type": "stream",
     "text": [
      "{45: 'Rohit Sharma', 18: 'Virat Kohli', 7: 'MSD', 10: 'Sachin Tendulkar', 'Coach': 'Rahul Dravid', 'Stadium': 'Wankhede', 1: 'KL Rahul', 'Format': 'T20'}\n"
     ]
    }
   ],
   "source": [
    "#Dictionaries Method\n",
    "\n",
    "'''\n",
    "adding a new element ::: neeed to give the key and value\n",
    "'''\n",
    "\n",
    "players[1] = 'KL Rahul' #here 1 is not the index , it is the key for the value : KL Rahul\n",
    "players['Format'] = \"T20\"\n",
    "print(players)"
   ]
  },
  {
   "cell_type": "code",
   "execution_count": 27,
   "id": "d71c4fd6",
   "metadata": {},
   "outputs": [
    {
     "name": "stdout",
     "output_type": "stream",
     "text": [
      "dict_items([(45, 'Rohit Sharma'), (18, 'Virat Kohli'), (7, 'MSD'), (10, 'Sachin Tendulkar'), ('Coach', 'Rahul Dravid'), ('Stadium', 'Wankhede'), (1, 'KL Rahul'), ('Format', 'T20')])\n"
     ]
    }
   ],
   "source": [
    "# .items return the key value pair as tuples in the list\n",
    "\n",
    "print(players.items())"
   ]
  },
  {
   "cell_type": "code",
   "execution_count": 33,
   "id": "18c18615",
   "metadata": {},
   "outputs": [
    {
     "name": "stdout",
     "output_type": "stream",
     "text": [
      "{'b': {43}, 'a': {43}, 'c': {43}}\n"
     ]
    }
   ],
   "source": [
    "#The fromkeys() method creates a dictionary from the given sequence of keys and values.\n",
    "#Note: The same value is assigned to all the keys of the dictionary.\n",
    "#takes 2 parameters\n",
    "\n",
    "state={'a','b','c'}\n",
    "value={43}\n",
    "imaginary=dict.fromkeys(state,value)\n",
    "print(imaginary)"
   ]
  },
  {
   "cell_type": "code",
   "execution_count": 36,
   "id": "eca4101d",
   "metadata": {},
   "outputs": [
    {
     "data": {
      "text/plain": [
       "'Rohit Sharma'"
      ]
     },
     "execution_count": 36,
     "metadata": {},
     "output_type": "execute_result"
    }
   ],
   "source": [
    "#.get is used to get the value by using the key as parameter\n",
    "players.get(45)"
   ]
  },
  {
   "cell_type": "code",
   "execution_count": 37,
   "id": "0704887d",
   "metadata": {},
   "outputs": [
    {
     "data": {
      "text/plain": [
       "dict_keys([45, 18, 7, 10, 'Coach', 'Stadium', 1, 'Format'])"
      ]
     },
     "execution_count": 37,
     "metadata": {},
     "output_type": "execute_result"
    }
   ],
   "source": [
    "#.keys is used to get all the keys in the dictionary\n",
    "players.keys()"
   ]
  },
  {
   "cell_type": "code",
   "execution_count": 39,
   "id": "02d68a7a",
   "metadata": {},
   "outputs": [
    {
     "data": {
      "text/plain": [
       "dict_values(['Rohit Sharma', 'Virat Kohli', 'MSD', 'Sachin Tendulkar', 'Rahul Dravid', 'Wankhede', 'KL Rahul', 'T20'])"
      ]
     },
     "execution_count": 39,
     "metadata": {},
     "output_type": "execute_result"
    }
   ],
   "source": [
    "#.values is used to get all the values in the dictionary\n",
    "players.values()"
   ]
  },
  {
   "cell_type": "code",
   "execution_count": 42,
   "id": "96aecf30",
   "metadata": {},
   "outputs": [
    {
     "name": "stdout",
     "output_type": "stream",
     "text": [
      "{45: 'Rohit Sharma', 18: 'Virat Kohli', 7: 'MSD', 10: 'Sachin Tendulkar', 'Coach': 'Ravi Shastri', 'Stadium': 'Wankhede', 1: 'KL Rahul', 'Format': 'T20', 'Head Coach': 'Rahul Dravid'}\n"
     ]
    }
   ],
   "source": [
    "# .update() to update the dictionary\n",
    "# if the key mentiooned is already present then value will be updated for that key\n",
    "# else the pair will be added to the dictionary\n",
    "\n",
    "players.update({'Coach':'Ravi Shastri'})\n",
    "players.update({'Head Coach':'Rahul Dravid'})\n",
    "print(players)"
   ]
  },
  {
   "cell_type": "code",
   "execution_count": 45,
   "id": "2f1fcb21",
   "metadata": {},
   "outputs": [
    {
     "name": "stdout",
     "output_type": "stream",
     "text": [
      "{45: 'Rohit Sharma', 18: 'Virat Kohli', 7: 'MSD', 10: 'Sachin Tendulkar', 'Coach': 'Ravi Shastri', 'Stadium': 'Wankhede', 'Format': 'T20', 'Head Coach': 'Rahul Dravid'}\n"
     ]
    }
   ],
   "source": [
    "# popping items from dictionary\n",
    "# Removes the element with the specified key\n",
    "\n",
    "players.pop(1)\n",
    "print(players)"
   ]
  },
  {
   "cell_type": "code",
   "execution_count": 46,
   "id": "3c7eedfc",
   "metadata": {},
   "outputs": [
    {
     "name": "stdout",
     "output_type": "stream",
     "text": [
      "{45: 'Rohit Sharma', 18: 'Virat Kohli', 7: 'MSD', 10: 'Sachin Tendulkar', 'Coach': 'Ravi Shastri', 'Stadium': 'Wankhede', 'Format': 'T20'}\n"
     ]
    }
   ],
   "source": [
    "# .popitem() ::: Removes the last inserted item from the dictionary\n",
    "players.popitem()\n",
    "print(players)"
   ]
  },
  {
   "cell_type": "code",
   "execution_count": null,
   "id": "7dfba6ee",
   "metadata": {},
   "outputs": [],
   "source": []
  }
 ],
 "metadata": {
  "kernelspec": {
   "display_name": "Python 3 (ipykernel)",
   "language": "python",
   "name": "python3"
  },
  "language_info": {
   "codemirror_mode": {
    "name": "ipython",
    "version": 3
   },
   "file_extension": ".py",
   "mimetype": "text/x-python",
   "name": "python",
   "nbconvert_exporter": "python",
   "pygments_lexer": "ipython3",
   "version": "3.11.5"
  }
 },
 "nbformat": 4,
 "nbformat_minor": 5
}
