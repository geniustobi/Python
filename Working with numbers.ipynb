{
 "cells": [
  {
   "cell_type": "code",
   "execution_count": 1,
   "id": "519e4051",
   "metadata": {},
   "outputs": [
    {
     "name": "stdout",
     "output_type": "stream",
     "text": [
      "4\n",
      "4\n",
      "1.0\n",
      "0\n",
      "1\n"
     ]
    }
   ],
   "source": [
    "#arithmetic operators\n",
    "\n",
    "print(2 + 2)\n",
    "print(2 * 2)\n",
    "print(2 / 2)\n",
    "print(2 - 2)\n",
    "print(10 % 3)"
   ]
  },
  {
   "cell_type": "code",
   "execution_count": 2,
   "id": "9bbf2e14",
   "metadata": {},
   "outputs": [
    {
     "name": "stdout",
     "output_type": "stream",
     "text": [
      "Absolute value of -9 is :  9\n",
      "Absolute vale of 10+5j is :  11.180339887498949\n",
      "Absolute value of list is :  [56, 60, 56.88585061331157]\n"
     ]
    }
   ],
   "source": [
    "#absolute value ::: abs()\n",
    "#Python’s abs() function works only for a numeric type of parameter\n",
    "\n",
    "num = -9\n",
    "print(\"Absolute value of -9 is : \",abs(num))\n",
    "\n",
    "#for complex number ::: If the inputs are complex numbers – the magnitude of the complex numbers is returned. Eg. Complex number = a+bj, Magnitude = √(a2+b2)\n",
    "\n",
    "complex_num = 10+5j\n",
    "print(\"Absolute vale of 10+5j is : \",abs(complex_num))\n",
    "\n",
    "#for list\n",
    "num_list=[-56,-60,56+10j]\n",
    "maplist=map(abs,num_list)\n",
    "print(\"Absolute value of list is : \",list(maplist))"
   ]
  },
  {
   "cell_type": "code",
   "execution_count": 3,
   "id": "3d429f1d",
   "metadata": {},
   "outputs": [
    {
     "name": "stdout",
     "output_type": "stream",
     "text": [
      "7\n",
      "7 is my number\n"
     ]
    }
   ],
   "source": [
    "mynum = 7\n",
    "print(mynum)\n",
    "\n",
    "#converting int to string so that concatenation can be performed\n",
    "\n",
    "print(str(mynum) +\" is my number\")"
   ]
  },
  {
   "cell_type": "code",
   "execution_count": 4,
   "id": "5f23f482",
   "metadata": {},
   "outputs": [
    {
     "name": "stdout",
     "output_type": "stream",
     "text": [
      "The value of 7 power 2 is :  49\n",
      "The max number is :  14\n",
      "The min number is :  7\n",
      "The round-up for 2.96 is :  3  & The round up for 2.36 is :  2\n"
     ]
    }
   ],
   "source": [
    "#power or raised to ::: here it will be 7*7\n",
    "print(\"The value of 7 power 2 is : \",pow(mynum,2))\n",
    "\n",
    "#max function, larger of number\n",
    "print(\"The max number is : \",max(mynum,14))\n",
    "\n",
    "#min function\n",
    "print(\"The min number is : \",min(mynum,10))\n",
    "\n",
    "#round-up function\n",
    "print(\"The round-up for 2.96 is : \",round(2.96),\" & The round up for 2.36 is : \",round(2.36))"
   ]
  },
  {
   "cell_type": "code",
   "execution_count": 5,
   "id": "e9c49bc3",
   "metadata": {},
   "outputs": [
    {
     "name": "stdout",
     "output_type": "stream",
     "text": [
      "3\n",
      "4\n",
      "8.0\n"
     ]
    }
   ],
   "source": [
    "\n",
    "#importing math library all function(*)\n",
    "from math import *\n",
    "\n",
    "#floor() ::: It rounds down a given number to the nearest whole number. \n",
    "print(floor(3.99))\n",
    "\n",
    "#ceil() ::: returns the smallest integer number which is greater than or equal to n.\n",
    "print(ceil(3.99))\n",
    "\n",
    "#sqrt()\n",
    "print(sqrt(64))"
   ]
  },
  {
   "cell_type": "code",
   "execution_count": 6,
   "id": "e6c27cc3",
   "metadata": {},
   "outputs": [
    {
     "name": "stdout",
     "output_type": "stream",
     "text": [
      "Enter your name:chirag\n",
      "Hello, chirag\n"
     ]
    }
   ],
   "source": [
    "# getting input from Users ::: input()\n",
    "\n",
    "#input keyword\n",
    "\n",
    "#asking name from the user and assigning to variable name\n",
    "name = input(\"Enter your name:\")\n",
    "\n",
    "#printing the name\n",
    "print(\"Hello, \" + name)"
   ]
  },
  {
   "cell_type": "code",
   "execution_count": null,
   "id": "209343cf",
   "metadata": {},
   "outputs": [],
   "source": []
  }
 ],
 "metadata": {
  "kernelspec": {
   "display_name": "Python 3 (ipykernel)",
   "language": "python",
   "name": "python3"
  },
  "language_info": {
   "codemirror_mode": {
    "name": "ipython",
    "version": 3
   },
   "file_extension": ".py",
   "mimetype": "text/x-python",
   "name": "python",
   "nbconvert_exporter": "python",
   "pygments_lexer": "ipython3",
   "version": "3.11.5"
  }
 },
 "nbformat": 4,
 "nbformat_minor": 5
}
