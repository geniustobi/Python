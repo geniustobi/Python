{
 "cells": [
  {
   "cell_type": "code",
   "execution_count": 3,
   "id": "6890108b",
   "metadata": {},
   "outputs": [
    {
     "name": "stdout",
     "output_type": "stream",
     "text": [
      "Enter the first number : 1\n",
      "Enter the second number: 100\n",
      "You have only  7  chances to find the correct number !!!\n",
      "Enter the number : 50\n",
      "Number is too BIG !!!\n",
      "Enter the number : 25\n",
      "Number is too BIG !!!\n",
      "Enter the number : 12\n",
      "Number is too SMALL !!!\n",
      "Enter the number : 18\n",
      "Number is too SMALL !!!\n",
      "Enter the number : 21\n",
      "Number is too BIG !!!\n",
      "Enter the number : 19\n",
      "Congratulations you guess the correct number in 6 try !!!\n"
     ]
    }
   ],
   "source": [
    "import math\n",
    "import random\n",
    "\n",
    "# Taking the vales to define the range from which the random number will be generated\n",
    "lower_value = int(input(\"Enter the first number : \"))\n",
    "upper_value = int(input(\"Enter the second number: \"))\n",
    "\n",
    "# Generating the random number from the above range\n",
    "X = random.randint(lower_value,upper_value)\n",
    "\n",
    "\n",
    "#Printing the chances for the user to guess the correct number generated\n",
    "print(\"You have only \",round(math.log(upper_value - lower_value + 1, 2)),\" chances to find the correct number !!!\")\n",
    "\n",
    "#initializing the number of guesses\n",
    "count = 0\n",
    "\n",
    "#Calculation of minimum number of guesses depends upon the range\n",
    "\n",
    "while count < math.log(upper_value - lower_value + 1, 2):\n",
    "    count = count + 1\n",
    "\n",
    "# Taking the user's guessed number    \n",
    "    guess = int(input(\"Enter the number : \"))\n",
    "\n",
    "#Applying the conditions\n",
    "    if(X == guess):\n",
    "        print(\"Congratulations you guess the correct number in\", count,'try !!!')\n",
    "        break\n",
    "    elif X < guess:\n",
    "        print(\"Number is too BIG !!!\")\n",
    "    elif X > guess:\n",
    "        print(\"Number is too SMALL !!!\")\n",
    "\n",
    "        \n",
    "if count > math.log(upper_value - lower_value + 1, 2):\n",
    "    print(\"OUT OF CHANCES\")\n",
    "    print(\"THE NUMBER IS : \",X)\n",
    "    print(\"BETTER LUCK NEXT TIME !!!\")\n",
    "\n",
    "\n"
   ]
  },
  {
   "cell_type": "code",
   "execution_count": null,
   "id": "d167e915",
   "metadata": {},
   "outputs": [],
   "source": []
  }
 ],
 "metadata": {
  "kernelspec": {
   "display_name": "Python 3 (ipykernel)",
   "language": "python",
   "name": "python3"
  },
  "language_info": {
   "codemirror_mode": {
    "name": "ipython",
    "version": 3
   },
   "file_extension": ".py",
   "mimetype": "text/x-python",
   "name": "python",
   "nbconvert_exporter": "python",
   "pygments_lexer": "ipython3",
   "version": "3.11.5"
  }
 },
 "nbformat": 4,
 "nbformat_minor": 5
}
