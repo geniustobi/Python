{
 "cells": [
  {
   "cell_type": "code",
   "execution_count": 29,
   "id": "994cfc92",
   "metadata": {},
   "outputs": [
    {
     "name": "stdout",
     "output_type": "stream",
     "text": [
      "MY name is OSAMA. My age is 56.\n"
     ]
    }
   ],
   "source": [
    "#Variables \n",
    "#you can't do concatenation on different datatypes i.e strings can be concatenated with strings only and not with integers\n",
    "\n",
    "name = \"OSAMA\"\n",
    "age= \"56\"\n",
    "print(\"MY name is \"+name+\". My age is \"+age+\".\")"
   ]
  },
  {
   "cell_type": "code",
   "execution_count": 31,
   "id": "e14f9c33",
   "metadata": {},
   "outputs": [
    {
     "name": "stdout",
     "output_type": "stream",
     "text": [
      "first line\n",
      "Second line\n"
     ]
    }
   ],
   "source": [
    "#printing sentence on new line use \"\\n\"\n",
    "print (\"first line\\nSecond line\")"
   ]
  },
  {
   "cell_type": "code",
   "execution_count": 35,
   "id": "1c33c6b6",
   "metadata": {},
   "outputs": [
    {
     "name": "stdout",
     "output_type": "stream",
     "text": [
      "Tagore said,\n",
      "\"Well done is better than well said.\" \n"
     ]
    }
   ],
   "source": [
    "#For Inserting a quote use (\\\")\n",
    "print(\"Tagore said,\\n\\\"Well done is better than well said.\\\" \")"
   ]
  },
  {
   "cell_type": "code",
   "execution_count": 2,
   "id": "fef36fc4",
   "metadata": {},
   "outputs": [
    {
     "name": "stdout",
     "output_type": "stream",
     "text": [
      "This Is My String\n"
     ]
    }
   ],
   "source": [
    "#working with strings\n",
    "phrase=\"This Is My String\"\n",
    "print(phrase)"
   ]
  },
  {
   "cell_type": "code",
   "execution_count": 37,
   "id": "176910dc",
   "metadata": {},
   "outputs": [
    {
     "name": "stdout",
     "output_type": "stream",
     "text": [
      "This Is My String Adding something\n"
     ]
    }
   ],
   "source": [
    "print(phrase+\" Adding something\")"
   ]
  },
  {
   "cell_type": "code",
   "execution_count": 38,
   "id": "ba1071c1",
   "metadata": {},
   "outputs": [
    {
     "name": "stdout",
     "output_type": "stream",
     "text": [
      "Lower string: this is my string\n"
     ]
    }
   ],
   "source": [
    "print(\"Lower string: \"+phrase.lower())"
   ]
  },
  {
   "cell_type": "code",
   "execution_count": 39,
   "id": "f752543b",
   "metadata": {},
   "outputs": [
    {
     "name": "stdout",
     "output_type": "stream",
     "text": [
      "Upper string: THIS IS MY STRING\n"
     ]
    }
   ],
   "source": [
    "print(\"Upper string: \"+phrase.upper())"
   ]
  },
  {
   "cell_type": "code",
   "execution_count": 40,
   "id": "fa5acab3",
   "metadata": {},
   "outputs": [
    {
     "name": "stdout",
     "output_type": "stream",
     "text": [
      "True\n"
     ]
    }
   ],
   "source": [
    "print(phrase.upper().isupper())"
   ]
  },
  {
   "cell_type": "code",
   "execution_count": 41,
   "id": "08ef31c5",
   "metadata": {},
   "outputs": [
    {
     "name": "stdout",
     "output_type": "stream",
     "text": [
      "17\n"
     ]
    }
   ],
   "source": [
    "print(len(phrase))\n"
   ]
  },
  {
   "cell_type": "code",
   "execution_count": 42,
   "id": "ed83c96e",
   "metadata": {
    "scrolled": true
   },
   "outputs": [
    {
     "name": "stdout",
     "output_type": "stream",
     "text": [
      "The first character of the string is : T\n"
     ]
    }
   ],
   "source": [
    "#Indexing starts from 0 and -1 from Backwards\n",
    "#[] are use for indexing\n",
    "print (\"The first character of the string is : \"+phrase[0])"
   ]
  },
  {
   "cell_type": "code",
   "execution_count": 47,
   "id": "8bc50074",
   "metadata": {
    "scrolled": true
   },
   "outputs": [
    {
     "name": "stdout",
     "output_type": "stream",
     "text": [
      "11\n"
     ]
    }
   ],
   "source": [
    "#locating the index of particular letter(checks the words first letter first)\n",
    "print(phrase.index('S'))\n",
    "\n"
   ]
  },
  {
   "cell_type": "code",
   "execution_count": 9,
   "id": "f1d020d5",
   "metadata": {},
   "outputs": [
    {
     "name": "stdout",
     "output_type": "stream",
     "text": [
      "It Is My String\n"
     ]
    }
   ],
   "source": [
    "#replacing string using replace()\n",
    "print(phrase.replace(\"This\",\"It\"))"
   ]
  }
 ],
 "metadata": {
  "kernelspec": {
   "display_name": "Python 3 (ipykernel)",
   "language": "python",
   "name": "python3"
  },
  "language_info": {
   "codemirror_mode": {
    "name": "ipython",
    "version": 3
   },
   "file_extension": ".py",
   "mimetype": "text/x-python",
   "name": "python",
   "nbconvert_exporter": "python",
   "pygments_lexer": "ipython3",
   "version": "3.11.5"
  }
 },
 "nbformat": 4,
 "nbformat_minor": 5
}
